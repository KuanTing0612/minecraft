{
 "cells": [
  {
   "cell_type": "code",
   "execution_count": 203,
   "metadata": {},
   "outputs": [
    {
     "data": {
      "text/html": [
       "<div>\n",
       "<style scoped>\n",
       "    .dataframe tbody tr th:only-of-type {\n",
       "        vertical-align: middle;\n",
       "    }\n",
       "\n",
       "    .dataframe tbody tr th {\n",
       "        vertical-align: top;\n",
       "    }\n",
       "\n",
       "    .dataframe thead th {\n",
       "        text-align: right;\n",
       "    }\n",
       "</style>\n",
       "<table border=\"1\" class=\"dataframe\">\n",
       "  <thead>\n",
       "    <tr style=\"text-align: right;\">\n",
       "      <th></th>\n",
       "      <th>time</th>\n",
       "      <th>win</th>\n",
       "      <th>loss</th>\n",
       "    </tr>\n",
       "  </thead>\n",
       "  <tbody>\n",
       "    <tr>\n",
       "      <th>0</th>\n",
       "      <td>[12:16:28]</td>\n",
       "      <td>mignon0923</td>\n",
       "      <td>Zombie</td>\n",
       "    </tr>\n",
       "    <tr>\n",
       "      <th>1</th>\n",
       "      <td>[18:44:02]</td>\n",
       "      <td>mignon0923</td>\n",
       "      <td>lavender0810</td>\n",
       "    </tr>\n",
       "  </tbody>\n",
       "</table>\n",
       "</div>"
      ],
      "text/plain": [
       "         time         win          loss\n",
       "0  [12:16:28]  mignon0923        Zombie\n",
       "1  [18:44:02]  mignon0923  lavender0810"
      ]
     },
     "execution_count": 203,
     "metadata": {},
     "output_type": "execute_result"
    }
   ],
   "source": [
    "import re\n",
    "import pandas as pd\n",
    "import numpy as np\n",
    "row = []\n",
    "with open(\"latest.log\",\"r\") as file:\n",
    "    log = file.readlines()\n",
    "for logdata in log:\n",
    "    if 'was slain by' in logdata:\n",
    "        time = \"\".join(re.findall(r'\\[\\d+:\\d+:\\d+\\]',logdata))\n",
    "        time = [time]\n",
    "        person = list(re.findall(r'(\\w*) was slain by (\\w*)',logdata)[0])\n",
    "        data = time + person\n",
    "        row.append(data)\n",
    "    else:\n",
    "        continue\n",
    "df = pd.DataFrame(row,columns=['time','win','loss'])"
   ]
  },
  {
   "cell_type": "code",
   "execution_count": 205,
   "metadata": {},
   "outputs": [
    {
     "name": "stdout",
     "output_type": "stream",
     "text": [
      "{'mignon0923': 2} {'Zombie': 1, 'lavender0810': 1}\n"
     ]
    }
   ],
   "source": [
    "loss = df[\"loss\"].value_counts().to_dict()\n",
    "win = df[\"win\"].value_counts().to_dict()\n",
    "print(win,loss)"
   ]
  },
  {
   "cell_type": "code",
   "execution_count": 206,
   "metadata": {},
   "outputs": [],
   "source": [
    "monsterlist = ['Blaze', 'Creeper', 'Drowned', 'Elder Guardian', 'Endermite', 'Evoker', 'Ghast', 'Guardian', 'Hoglin', 'Husk', 'Magma Cube', 'Phantom', 'Piglin Brute', 'Pillager', 'Ravager', 'Shulker', 'Silverfish', 'Skeleton', 'Slime', 'Stray', 'Vex', 'Vindicator', 'Warden', 'Witch', 'Wither Skeleton', 'Zoglin', 'Zombie', 'Zombie Villager', 'Enderman', 'Piglin', 'Spider', 'Cave Spider', 'Zombified Piglin', 'Ender Dragon', 'Wither']"
   ]
  },
  {
   "cell_type": "code",
   "execution_count": 209,
   "metadata": {},
   "outputs": [],
   "source": [
    "for i in range(1,3):\n",
    "    df.iloc[:,i] = df.iloc[:,i].replace(monsterlist,np.nan)"
   ]
  },
  {
   "cell_type": "code",
   "execution_count": 210,
   "metadata": {},
   "outputs": [
    {
     "data": {
      "text/html": [
       "<div>\n",
       "<style scoped>\n",
       "    .dataframe tbody tr th:only-of-type {\n",
       "        vertical-align: middle;\n",
       "    }\n",
       "\n",
       "    .dataframe tbody tr th {\n",
       "        vertical-align: top;\n",
       "    }\n",
       "\n",
       "    .dataframe thead th {\n",
       "        text-align: right;\n",
       "    }\n",
       "</style>\n",
       "<table border=\"1\" class=\"dataframe\">\n",
       "  <thead>\n",
       "    <tr style=\"text-align: right;\">\n",
       "      <th></th>\n",
       "      <th>time</th>\n",
       "      <th>win</th>\n",
       "      <th>loss</th>\n",
       "    </tr>\n",
       "  </thead>\n",
       "  <tbody>\n",
       "    <tr>\n",
       "      <th>1</th>\n",
       "      <td>[18:44:02]</td>\n",
       "      <td>mignon0923</td>\n",
       "      <td>lavender0810</td>\n",
       "    </tr>\n",
       "  </tbody>\n",
       "</table>\n",
       "</div>"
      ],
      "text/plain": [
       "         time         win          loss\n",
       "1  [18:44:02]  mignon0923  lavender0810"
      ]
     },
     "execution_count": 210,
     "metadata": {},
     "output_type": "execute_result"
    }
   ],
   "source": [
    "df.dropna(inplace=True)\n",
    "df"
   ]
  },
  {
   "cell_type": "code",
   "execution_count": 3,
   "metadata": {},
   "outputs": [
    {
     "name": "stdout",
     "output_type": "stream",
     "text": [
      "         time         win          loss\n",
      "1  [18:44:02]  mignon0923  lavender0810\n"
     ]
    }
   ],
   "source": [
    "import re\n",
    "import pandas as pd\n",
    "import numpy as np\n",
    "row = []\n",
    "with open(\"latest.log\",\"r\") as file:\n",
    "    log = file.readlines()\n",
    "for logdata in log:\n",
    "    if 'was slain by' in logdata:\n",
    "        time = \"\".join(re.findall(r'\\[\\d+:\\d+:\\d+\\]',logdata))\n",
    "        time = [time]\n",
    "        person = list(re.findall(r'(\\w*) was slain by (\\w*)',logdata)[0])\n",
    "        data = time + person\n",
    "        row.append(data)\n",
    "    else:\n",
    "        continue\n",
    "df = pd.DataFrame(row,columns=['time','win','loss'])\n",
    "monsterlist = ['Blaze', 'Creeper', 'Drowned', 'Elder Guardian', 'Endermite', 'Evoker', 'Ghast', 'Guardian', 'Hoglin', 'Husk', 'Magma Cube', 'Phantom', 'Piglin Brute', 'Pillager', 'Ravager', 'Shulker', 'Silverfish', 'Skeleton', 'Slime', 'Stray', 'Vex', 'Vindicator', 'Warden', 'Witch', 'Wither Skeleton', 'Zoglin', 'Zombie', 'Zombie Villager', 'Enderman', 'Piglin', 'Spider', 'Cave Spider', 'Zombified Piglin', 'Ender Dragon', 'Wither']\n",
    "for i in range(1,3):\n",
    "    df.iloc[:,i] = df.iloc[:,i].replace(monsterlist,np.nan)\n",
    "df.dropna(inplace=True)\n",
    "loss = df[\"loss\"].value_counts().to_dict()\n",
    "win = df[\"win\"].value_counts().to_dict()\n",
    "print(df)"
   ]
  }
 ],
 "metadata": {
  "kernelspec": {
   "display_name": "Python 3.10.4 64-bit",
   "language": "python",
   "name": "python3"
  },
  "language_info": {
   "codemirror_mode": {
    "name": "ipython",
    "version": 3
   },
   "file_extension": ".py",
   "mimetype": "text/x-python",
   "name": "python",
   "nbconvert_exporter": "python",
   "pygments_lexer": "ipython3",
   "version": "3.10.4"
  },
  "orig_nbformat": 4,
  "vscode": {
   "interpreter": {
    "hash": "fb4569285eef3a3450cb62085a5b1e0da4bce0af555edc33dcf29baf3acc1368"
   }
  }
 },
 "nbformat": 4,
 "nbformat_minor": 2
}
